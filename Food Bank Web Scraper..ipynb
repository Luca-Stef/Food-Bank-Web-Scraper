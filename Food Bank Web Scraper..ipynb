{
 "cells": [
  {
   "cell_type": "code",
   "execution_count": null,
   "metadata": {},
   "outputs": [],
   "source": [
    "import geopandas as gpd\n",
    "import pandas as pd\n",
    "import json\n",
    "import requests\n",
    "from bs4 import BeautifulSoup\n",
    "import urllib.request\n",
    "from datetime import datetime"
   ]
  },
  {
   "cell_type": "code",
   "execution_count": null,
   "metadata": {},
   "outputs": [],
   "source": [
    "with urllib.request.urlopen(\"https://www.trusselltrust.org/get-help/find-a-foodbank/foodbank-search/?foodbank_s=all&callback=?\") as url:\n",
    "    data = json.loads(url.read().decode()[2:-2])"
   ]
  },
  {
   "cell_type": "markdown",
   "metadata": {},
   "source": [
    "The Trussell Trust interactive map uses a JSON file with a list of dictionaries. Each distionary is associated with a small region and can consist of multiple foodbank centres. So each dictionary in the list has an additional nested dictionary with centre-specific information. Below is an attempt to extract some important features and create a simpler list of dictionaries corresponding to each unique foodbank distribution centre."
   ]
  },
  {
   "cell_type": "markdown",
   "metadata": {},
   "source": [
    "The centre geolocation and opening time information is contained in a third nested dictionary which should be extracted appropriately.\n",
    "\n",
    "The Trussell Trust doesn't provide stock quantities for foodbanks but it does provide opening and closing times. My idea is to calculate weekly time spend open for each food bank, with more time spent open indicating higher risk of food insecurity for that region."
   ]
  },
  {
   "cell_type": "code",
   "execution_count": null,
   "metadata": {},
   "outputs": [],
   "source": [
    "# Opening time information consists of dictionaries for each day, containing the opening and closing time for that day.\n",
    "data[0]['foodbank_centre'][1]['opening_time']"
   ]
  },
  {
   "cell_type": "code",
   "execution_count": null,
   "metadata": {},
   "outputs": [],
   "source": [
    "# By looping through, it is possible to pair up opening and closing times, priming the data for a time difference calculation.\n",
    "for dictionary in data:\n",
    "    if dictionary['foodbank_centre'] != False:\n",
    "        for fbank in dictionary['foodbank_centre']:\n",
    "            try:\n",
    "                s=0\n",
    "                for i in fbank['opening_time']:\n",
    "                    print(datetime.strptime(i['opening_time'], '%H:%M'))\n",
    "                    print(datetime.strptime(i['closing_time'], '%H:%M'))\n",
    "                    print('difference:',(datetime.strptime(i['closing_time'], '%H:%M')-datetime.strptime(i['opening_time'], '%H:%M')).total_seconds())\n",
    "                    s += (datetime.strptime(i['closing_time'], '%H:%M')-datetime.strptime(i['opening_time'], '%H:%M')).total_seconds()\n",
    "                print('total differences:',s)\n",
    "                print('\\n')    \n",
    "            except KeyError:\n",
    "                continue\n",
    "    else:\n",
    "        continue"
   ]
  },
  {
   "cell_type": "code",
   "execution_count": null,
   "metadata": {},
   "outputs": [],
   "source": [
    "fbanklist=[]\n",
    "for dictionary in data:\n",
    "    if dictionary['foodbank_centre'] != False:\n",
    "        for fbank in dictionary['foodbank_centre']:\n",
    "            try: # KeyError occurs because some dictionaries are empty\n",
    "                fbank['website'] = dictionary['foodbank_information']['website']\n",
    "                fbank['lat'] = fbank['centre_geolocation']['lat']\n",
    "                fbank['lng'] = fbank['centre_geolocation']['lng']\n",
    "                s=0\n",
    "                for i in fbank['opening_time']:\n",
    "                    s += (datetime.strptime(i['closing_time'], '%H:%M') -\n",
    "                          datetime.strptime(i['opening_time'], '%H:%M')).total_seconds()\n",
    "                fbank['total_time_open'] = s   \n",
    "                fbanklist.append(fbank)\n",
    "            except KeyError:\n",
    "                continue\n",
    "    else:\n",
    "        continue"
   ]
  },
  {
   "cell_type": "code",
   "execution_count": null,
   "metadata": {},
   "outputs": [],
   "source": [
    "foodbanks = pd.DataFrame(fbanklist)\n",
    "foodbanks"
   ]
  },
  {
   "cell_type": "markdown",
   "metadata": {},
   "source": [
    "There are two address strings for each row in the dataframe, one of which still has \\r, \\n and <br \\> elements."
   ]
  },
  {
   "cell_type": "code",
   "execution_count": null,
   "metadata": {},
   "outputs": [],
   "source": [
    "# Regional stats for Trussell Trust food banks. 6 Tables corresponding to 6 years.\n",
    "reg_stats = pd.read_html('https://www.trusselltrust.org/news-and-blog/latest-stats/end-year-stats')"
   ]
  },
  {
   "cell_type": "code",
   "execution_count": null,
   "metadata": {},
   "outputs": [],
   "source": [
    "reg_stats[0]"
   ]
  },
  {
   "cell_type": "markdown",
   "metadata": {},
   "source": [
    "Now we have regional statistics and a postcode associated with every food bank. We could use data relating postcodes to regions."
   ]
  },
  {
   "cell_type": "code",
   "execution_count": null,
   "metadata": {},
   "outputs": [],
   "source": [
    "codes_regions = pd.read_html('https://www.robertsharp.co.uk/2017/08/09/a-table-that-shows-the-uk-region-for-all-postcode-districts/')[0]"
   ]
  },
  {
   "cell_type": "code",
   "execution_count": null,
   "metadata": {},
   "outputs": [],
   "source": [
    "codes_regions[['UK region', 'Postcode prefix']]"
   ]
  }
 ],
 "metadata": {
  "kernelspec": {
   "display_name": "Python 3",
   "language": "python",
   "name": "python3"
  },
  "language_info": {
   "codemirror_mode": {
    "name": "ipython",
    "version": 3
   },
   "file_extension": ".py",
   "mimetype": "text/x-python",
   "name": "python",
   "nbconvert_exporter": "python",
   "pygments_lexer": "ipython3",
   "version": "3.7.4"
  }
 },
 "nbformat": 4,
 "nbformat_minor": 2
}
